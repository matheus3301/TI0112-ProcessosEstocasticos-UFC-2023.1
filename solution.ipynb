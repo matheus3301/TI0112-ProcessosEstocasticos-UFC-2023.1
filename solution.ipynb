{
 "cells": [
  {
   "attachments": {},
   "cell_type": "markdown",
   "metadata": {},
   "source": [
    "# Trabalho Computacional - Processos Estocásticos"
   ]
  },
  {
   "cell_type": "code",
   "execution_count": null,
   "metadata": {},
   "outputs": [],
   "source": [
    "import pandas as pd\n",
    "import numpy as np\n",
    "import seaborn as sns"
   ]
  },
  {
   "cell_type": "code",
   "execution_count": null,
   "metadata": {},
   "outputs": [],
   "source": [
    "normal = pd.read_csv(\"data/normal.csv\")\n",
    "failing = pd.read_csv(\"data/failing.csv\")\n",
    "unknown = pd.read_csv(\"data/unknown.csv\")"
   ]
  }
 ],
 "metadata": {
  "kernelspec": {
   "display_name": "Python 3.9.0 64-bit",
   "language": "python",
   "name": "python3"
  },
  "language_info": {
   "name": "python",
   "version": "3.9.0"
  },
  "orig_nbformat": 4,
  "vscode": {
   "interpreter": {
    "hash": "88a0ba835f1f75f6dc0fea2fe4e7c06803e175a052ef5d47a0b7eb7744314f6e"
   }
  }
 },
 "nbformat": 4,
 "nbformat_minor": 2
}
