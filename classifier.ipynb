{
 "cells": [
  {
   "cell_type": "code",
   "execution_count": 91,
   "metadata": {},
   "outputs": [
    {
     "name": "stdout",
     "output_type": "stream",
     "text": [
      "Defaulting to user installation because normal site-packages is not writeable\n",
      "Requirement already satisfied: numpy in c:\\users\\matheus\\appdata\\roaming\\python\\python311\\site-packages (1.24.3)\n",
      "Requirement already satisfied: matplotlib in c:\\users\\matheus\\appdata\\roaming\\python\\python311\\site-packages (3.7.1)\n",
      "Requirement already satisfied: scipy in c:\\users\\matheus\\appdata\\roaming\\python\\python311\\site-packages (1.11.1)\n",
      "Requirement already satisfied: scikit-learn in c:\\users\\matheus\\appdata\\roaming\\python\\python311\\site-packages (1.2.2)\n",
      "Requirement already satisfied: contourpy>=1.0.1 in c:\\users\\matheus\\appdata\\roaming\\python\\python311\\site-packages (from matplotlib) (1.0.7)\n",
      "Requirement already satisfied: cycler>=0.10 in c:\\users\\matheus\\appdata\\roaming\\python\\python311\\site-packages (from matplotlib) (0.11.0)\n",
      "Requirement already satisfied: fonttools>=4.22.0 in c:\\users\\matheus\\appdata\\roaming\\python\\python311\\site-packages (from matplotlib) (4.39.4)\n",
      "Requirement already satisfied: kiwisolver>=1.0.1 in c:\\users\\matheus\\appdata\\roaming\\python\\python311\\site-packages (from matplotlib) (1.4.4)\n",
      "Requirement already satisfied: packaging>=20.0 in c:\\users\\matheus\\appdata\\roaming\\python\\python311\\site-packages (from matplotlib) (23.1)\n",
      "Requirement already satisfied: pillow>=6.2.0 in c:\\users\\matheus\\appdata\\roaming\\python\\python311\\site-packages (from matplotlib) (9.5.0)\n",
      "Requirement already satisfied: pyparsing>=2.3.1 in c:\\users\\matheus\\appdata\\roaming\\python\\python311\\site-packages (from matplotlib) (3.0.9)\n",
      "Requirement already satisfied: python-dateutil>=2.7 in c:\\users\\matheus\\appdata\\roaming\\python\\python311\\site-packages (from matplotlib) (2.8.2)\n",
      "Requirement already satisfied: joblib>=1.1.1 in c:\\users\\matheus\\appdata\\roaming\\python\\python311\\site-packages (from scikit-learn) (1.3.1)\n",
      "Requirement already satisfied: threadpoolctl>=2.0.0 in c:\\users\\matheus\\appdata\\roaming\\python\\python311\\site-packages (from scikit-learn) (3.1.0)\n",
      "Requirement already satisfied: six>=1.5 in c:\\users\\matheus\\appdata\\roaming\\python\\python311\\site-packages (from python-dateutil>=2.7->matplotlib) (1.16.0)\n",
      "Note: you may need to restart the kernel to use updated packages.\n"
     ]
    },
    {
     "name": "stderr",
     "output_type": "stream",
     "text": [
      "\n",
      "[notice] A new release of pip available: 22.3.1 -> 23.1.2\n",
      "[notice] To update, run: python.exe -m pip install --upgrade pip\n"
     ]
    }
   ],
   "source": [
    "%pip install numpy matplotlib scipy scikit-learn"
   ]
  },
  {
   "cell_type": "code",
   "execution_count": 92,
   "metadata": {},
   "outputs": [],
   "source": [
    "import numpy as np\n",
    "from sklearn.decomposition import PCA\n",
    "from sklearn.model_selection import train_test_split\n",
    "from sklearn.neighbors import NearestCentroid\n",
    "from sklearn.discriminant_analysis import QuadraticDiscriminantAnalysis\n",
    "from sklearn.ensemble import RandomForestClassifier\n",
    "import warnings\n",
    "warnings.filterwarnings(\"ignore\")"
   ]
  },
  {
   "cell_type": "code",
   "execution_count": 93,
   "metadata": {},
   "outputs": [
    {
     "name": "stdout",
     "output_type": "stream",
     "text": [
      "(80, 20000)\n",
      "(80,)\n",
      "(3, 20000)\n"
     ]
    }
   ],
   "source": [
    "def read_data(path: str):\n",
    "    return np.genfromtxt(path, delimiter=\",\")\n",
    "\n",
    "Fs = 2 * 10**3\n",
    "\n",
    "X = read_data(\"data/X.csv\")\n",
    "print(np.shape(X))\n",
    "\n",
    "y = read_data(\"data/Y.csv\")\n",
    "print(np.shape(y))\n",
    "\n",
    "unknown = read_data(\"data/subsample_desconhecido.csv\")\n",
    "unknown = [unknown[0,:],unknown[5,:],unknown[10,:]]\n",
    "print(np.shape(unknown))"
   ]
  },
  {
   "cell_type": "code",
   "execution_count": 94,
   "metadata": {},
   "outputs": [
    {
     "name": "stdout",
     "output_type": "stream",
     "text": [
      "1.0\n"
     ]
    }
   ],
   "source": [
    "pca = PCA(n_components=80)\n",
    "X = pca.fit_transform(X)\n",
    "\n",
    "print(np.sum(pca.explained_variance_ratio_))\n",
    "\n",
    "unknown = pca.transform(unknown)"
   ]
  },
  {
   "cell_type": "code",
   "execution_count": 133,
   "metadata": {},
   "outputs": [
    {
     "data": {
      "text/plain": [
       "[0.6875, 1.0, 0.914375, 0.06608765486079832]"
      ]
     },
     "execution_count": 133,
     "metadata": {},
     "output_type": "execute_result"
    }
   ],
   "source": [
    "iterations = 50\n",
    "results = []\n",
    "for test in range(iterations):\n",
    "    X_train, X_test, y_train, y_test = train_test_split(X, y, test_size=0.4)\n",
    "    \n",
    "    dmc = NearestCentroid(metric='euclidean')\n",
    "    dmc.fit(X_train, y_train)\n",
    "\n",
    "    predictions = dmc.predict(X_test)\n",
    "    results.append(np.sum(predictions == y_test)/len(y_test))\n",
    "\n",
    "\n",
    "statistics = [np.min(results), np.max(results), np.mean(results), np.std(results)]\n",
    "statistics"
   ]
  },
  {
   "cell_type": "code",
   "execution_count": 134,
   "metadata": {},
   "outputs": [
    {
     "data": {
      "text/plain": [
       "[0.9375, 1.0, 0.9975, 0.010532687216470448]"
      ]
     },
     "execution_count": 134,
     "metadata": {},
     "output_type": "execute_result"
    }
   ],
   "source": [
    "iterations = 50\n",
    "results = []\n",
    "for test in range(iterations):\n",
    "    X_train, X_test, y_train, y_test = train_test_split(X, y, test_size=0.4)\n",
    "    \n",
    "    qda = QuadraticDiscriminantAnalysis(reg_param=0.1)\n",
    "    qda.fit(X_train, y_train)\n",
    "\n",
    "    predictions = qda.predict(X_test)\n",
    "    results.append(np.sum(predictions == y_test)/len(y_test))\n",
    "\n",
    "\n",
    "statistics = [np.min(results), np.max(results), np.mean(results), np.std(results)]\n",
    "statistics"
   ]
  },
  {
   "cell_type": "code",
   "execution_count": 135,
   "metadata": {},
   "outputs": [
    {
     "data": {
      "text/plain": [
       "[array([0., 0., 1.]), array([0., 0., 0.])]"
      ]
     },
     "execution_count": 135,
     "metadata": {},
     "output_type": "execute_result"
    }
   ],
   "source": [
    "nc = NearestCentroid()\n",
    "qda = QuadraticDiscriminantAnalysis()\n",
    "\n",
    "nc.fit(X,y)\n",
    "qda.fit(X,y)\n",
    "\n",
    "predictions_nc = nc.predict(unknown)\n",
    "predictions_qda = qda.predict(unknown)\n",
    "\n",
    "\n",
    "[predictions_nc, predictions_qda]"
   ]
  }
 ],
 "metadata": {
  "kernelspec": {
   "display_name": "Python 3",
   "language": "python",
   "name": "python3"
  },
  "language_info": {
   "codemirror_mode": {
    "name": "ipython",
    "version": 3
   },
   "file_extension": ".py",
   "mimetype": "text/x-python",
   "name": "python",
   "nbconvert_exporter": "python",
   "pygments_lexer": "ipython3",
   "version": "3.11.1"
  },
  "orig_nbformat": 4,
  "vscode": {
   "interpreter": {
    "hash": "5238573367df39f7286bb46f9ff5f08f63a01a80960060ce41e3c79b190280fa"
   }
  }
 },
 "nbformat": 4,
 "nbformat_minor": 2
}
